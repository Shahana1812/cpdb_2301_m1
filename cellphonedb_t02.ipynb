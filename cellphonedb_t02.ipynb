{
 "cells": [
  {
   "cell_type": "code",
   "execution_count": 9,
   "metadata": {
    "colab": {
     "base_uri": "https://localhost:8080/"
    },
    "executionInfo": {
     "elapsed": 17181,
     "status": "ok",
     "timestamp": 1700033584359,
     "user": {
      "displayName": "Shahana Dilruba",
      "userId": "09201667368546103820"
     },
     "user_tz": -60
    },
    "id": "NhCMxyEeisD7",
    "outputId": "aeca3a2c-6da0-46c7-dc3e-ca38bea17df5"
   },
   "outputs": [
    {
     "name": "stdout",
     "output_type": "stream",
     "text": [
      "Requirement already satisfied: cellphonedb in ./miniforge3/envs/pertpy/lib/python3.10/site-packages (5.0.0)\n",
      "Requirement already satisfied: anndata>=0.8 in ./miniforge3/envs/pertpy/lib/python3.10/site-packages (from cellphonedb) (0.10.5.post1)\n",
      "Requirement already satisfied: geosketch>=1.2 in ./miniforge3/envs/pertpy/lib/python3.10/site-packages (from cellphonedb) (1.2)\n",
      "Requirement already satisfied: ktplotspy>=0.1.4 in ./miniforge3/envs/pertpy/lib/python3.10/site-packages (from cellphonedb) (0.2.2)\n",
      "Requirement already satisfied: numpy>=1.21.6 in ./miniforge3/envs/pertpy/lib/python3.10/site-packages (from cellphonedb) (1.26.4)\n",
      "Requirement already satisfied: numpy-groupies>=0.9.15 in ./miniforge3/envs/pertpy/lib/python3.10/site-packages (from cellphonedb) (0.10.2)\n",
      "Requirement already satisfied: pandas>=1.5.0 in ./miniforge3/envs/pertpy/lib/python3.10/site-packages (from cellphonedb) (2.2.0)\n",
      "Requirement already satisfied: requests>=2.25.0 in ./miniforge3/envs/pertpy/lib/python3.10/site-packages (from cellphonedb) (2.31.0)\n",
      "Requirement already satisfied: scanpy>=1.9.1 in ./miniforge3/envs/pertpy/lib/python3.10/site-packages (from cellphonedb) (1.9.8)\n",
      "Requirement already satisfied: scikit-learn>=1.2.2 in ./miniforge3/envs/pertpy/lib/python3.10/site-packages (from cellphonedb) (1.4.0)\n",
      "Requirement already satisfied: tqdm<5.0,>=4.3 in ./miniforge3/envs/pertpy/lib/python3.10/site-packages (from cellphonedb) (4.66.2)\n",
      "Requirement already satisfied: array-api-compat in ./miniforge3/envs/pertpy/lib/python3.10/site-packages (from anndata>=0.8->cellphonedb) (1.4.1)\n",
      "Requirement already satisfied: exceptiongroup in ./miniforge3/envs/pertpy/lib/python3.10/site-packages (from anndata>=0.8->cellphonedb) (1.2.0)\n",
      "Requirement already satisfied: h5py>=3 in ./miniforge3/envs/pertpy/lib/python3.10/site-packages (from anndata>=0.8->cellphonedb) (3.10.0)\n",
      "Requirement already satisfied: natsort in ./miniforge3/envs/pertpy/lib/python3.10/site-packages (from anndata>=0.8->cellphonedb) (8.4.0)\n",
      "Requirement already satisfied: packaging>=20 in ./miniforge3/envs/pertpy/lib/python3.10/site-packages (from anndata>=0.8->cellphonedb) (23.2)\n",
      "Requirement already satisfied: scipy>1.4 in ./miniforge3/envs/pertpy/lib/python3.10/site-packages (from anndata>=0.8->cellphonedb) (1.12.0)\n",
      "Requirement already satisfied: fbpca>=1.0 in ./miniforge3/envs/pertpy/lib/python3.10/site-packages (from geosketch>=1.2->cellphonedb) (1.0)\n",
      "Requirement already satisfied: plotnine<0.13.0,>=0.12.0 in ./miniforge3/envs/pertpy/lib/python3.10/site-packages (from ktplotspy>=0.1.4->cellphonedb) (0.12.4)\n",
      "Requirement already satisfied: python-circos<0.4.0,>=0.3.0 in ./miniforge3/envs/pertpy/lib/python3.10/site-packages (from ktplotspy>=0.1.4->cellphonedb) (0.3.0)\n",
      "Requirement already satisfied: seaborn<0.14,>=0.12 in ./miniforge3/envs/pertpy/lib/python3.10/site-packages (from ktplotspy>=0.1.4->cellphonedb) (0.13.2)\n",
      "Requirement already satisfied: python-dateutil>=2.8.2 in ./miniforge3/envs/pertpy/lib/python3.10/site-packages (from pandas>=1.5.0->cellphonedb) (2.8.2)\n",
      "Requirement already satisfied: pytz>=2020.1 in ./miniforge3/envs/pertpy/lib/python3.10/site-packages (from pandas>=1.5.0->cellphonedb) (2024.1)\n",
      "Requirement already satisfied: tzdata>=2022.7 in ./miniforge3/envs/pertpy/lib/python3.10/site-packages (from pandas>=1.5.0->cellphonedb) (2024.1)\n",
      "Requirement already satisfied: charset-normalizer<4,>=2 in ./miniforge3/envs/pertpy/lib/python3.10/site-packages (from requests>=2.25.0->cellphonedb) (3.3.2)\n",
      "Requirement already satisfied: idna<4,>=2.5 in ./miniforge3/envs/pertpy/lib/python3.10/site-packages (from requests>=2.25.0->cellphonedb) (3.6)\n",
      "Requirement already satisfied: urllib3<3,>=1.21.1 in ./miniforge3/envs/pertpy/lib/python3.10/site-packages (from requests>=2.25.0->cellphonedb) (2.2.0)\n",
      "Requirement already satisfied: certifi>=2017.4.17 in ./miniforge3/envs/pertpy/lib/python3.10/site-packages (from requests>=2.25.0->cellphonedb) (2024.2.2)\n",
      "Requirement already satisfied: joblib in ./miniforge3/envs/pertpy/lib/python3.10/site-packages (from scanpy>=1.9.1->cellphonedb) (1.3.2)\n",
      "Requirement already satisfied: matplotlib>=3.6 in ./miniforge3/envs/pertpy/lib/python3.10/site-packages (from scanpy>=1.9.1->cellphonedb) (3.8.3)\n",
      "Requirement already satisfied: networkx>=2.3 in ./miniforge3/envs/pertpy/lib/python3.10/site-packages (from scanpy>=1.9.1->cellphonedb) (3.2.1)\n",
      "Requirement already satisfied: numba>=0.41.0 in ./miniforge3/envs/pertpy/lib/python3.10/site-packages (from scanpy>=1.9.1->cellphonedb) (0.59.0)\n",
      "Requirement already satisfied: patsy in ./miniforge3/envs/pertpy/lib/python3.10/site-packages (from scanpy>=1.9.1->cellphonedb) (0.5.6)\n",
      "Requirement already satisfied: session-info in ./miniforge3/envs/pertpy/lib/python3.10/site-packages (from scanpy>=1.9.1->cellphonedb) (1.0.0)\n",
      "Requirement already satisfied: statsmodels>=0.10.0rc2 in ./miniforge3/envs/pertpy/lib/python3.10/site-packages (from scanpy>=1.9.1->cellphonedb) (0.14.1)\n",
      "Requirement already satisfied: umap-learn>=0.3.10 in ./miniforge3/envs/pertpy/lib/python3.10/site-packages (from scanpy>=1.9.1->cellphonedb) (0.5.5)\n",
      "Requirement already satisfied: threadpoolctl>=2.0.0 in ./miniforge3/envs/pertpy/lib/python3.10/site-packages (from scikit-learn>=1.2.2->cellphonedb) (3.3.0)\n",
      "Requirement already satisfied: contourpy>=1.0.1 in ./miniforge3/envs/pertpy/lib/python3.10/site-packages (from matplotlib>=3.6->scanpy>=1.9.1->cellphonedb) (1.2.0)\n",
      "Requirement already satisfied: cycler>=0.10 in ./miniforge3/envs/pertpy/lib/python3.10/site-packages (from matplotlib>=3.6->scanpy>=1.9.1->cellphonedb) (0.12.1)\n",
      "Requirement already satisfied: fonttools>=4.22.0 in ./miniforge3/envs/pertpy/lib/python3.10/site-packages (from matplotlib>=3.6->scanpy>=1.9.1->cellphonedb) (4.48.1)\n",
      "Requirement already satisfied: kiwisolver>=1.3.1 in ./miniforge3/envs/pertpy/lib/python3.10/site-packages (from matplotlib>=3.6->scanpy>=1.9.1->cellphonedb) (1.4.5)\n",
      "Requirement already satisfied: pillow>=8 in ./miniforge3/envs/pertpy/lib/python3.10/site-packages (from matplotlib>=3.6->scanpy>=1.9.1->cellphonedb) (10.2.0)\n",
      "Requirement already satisfied: pyparsing>=2.3.1 in ./miniforge3/envs/pertpy/lib/python3.10/site-packages (from matplotlib>=3.6->scanpy>=1.9.1->cellphonedb) (3.1.1)\n",
      "Requirement already satisfied: llvmlite<0.43,>=0.42.0dev0 in ./miniforge3/envs/pertpy/lib/python3.10/site-packages (from numba>=0.41.0->scanpy>=1.9.1->cellphonedb) (0.42.0)\n",
      "Requirement already satisfied: mizani<0.10.0,>0.9.0 in ./miniforge3/envs/pertpy/lib/python3.10/site-packages (from plotnine<0.13.0,>=0.12.0->ktplotspy>=0.1.4->cellphonedb) (0.9.3)\n",
      "Requirement already satisfied: six in ./miniforge3/envs/pertpy/lib/python3.10/site-packages (from patsy->scanpy>=1.9.1->cellphonedb) (1.16.0)\n",
      "Requirement already satisfied: biopython>=1.78 in ./miniforge3/envs/pertpy/lib/python3.10/site-packages (from python-circos<0.4.0,>=0.3.0->ktplotspy>=0.1.4->cellphonedb) (1.83)\n",
      "Requirement already satisfied: pynndescent>=0.5 in ./miniforge3/envs/pertpy/lib/python3.10/site-packages (from umap-learn>=0.3.10->scanpy>=1.9.1->cellphonedb) (0.5.11)\n",
      "Requirement already satisfied: stdlib-list in ./miniforge3/envs/pertpy/lib/python3.10/site-packages (from session-info->scanpy>=1.9.1->cellphonedb) (0.10.0)\n",
      "Note: you may need to restart the kernel to use updated packages.\n"
     ]
    }
   ],
   "source": [
    "pip install cellphonedb"
   ]
  },
  {
   "cell_type": "markdown",
   "metadata": {
    "id": "6Ja1VXMrabfu"
   },
   "source": [
    "# **Download** Database from Source"
   ]
  },
  {
   "cell_type": "markdown",
   "metadata": {
    "id": "LtmLGx6G-Il_"
   },
   "source": [
    "# Install **CellphoneDB**"
   ]
  },
  {
   "cell_type": "code",
   "execution_count": 10,
   "metadata": {
    "id": "xDfI9ukfjCMd"
   },
   "outputs": [],
   "source": [
    "import pandas as pd\n",
    "import glob\n",
    "import os"
   ]
  },
  {
   "cell_type": "code",
   "execution_count": 11,
   "metadata": {},
   "outputs": [],
   "source": [
    "import cellphonedb"
   ]
  },
  {
   "cell_type": "markdown",
   "metadata": {
    "id": "45wbI-hd-Xzu"
   },
   "source": [
    "\n",
    "# **Display database versions**"
   ]
  },
  {
   "cell_type": "code",
   "execution_count": 12,
   "metadata": {
    "colab": {
     "base_uri": "https://localhost:8080/",
     "height": 89
    },
    "executionInfo": {
     "elapsed": 645,
     "status": "ok",
     "timestamp": 1700034937812,
     "user": {
      "displayName": "Shahana Dilruba",
      "userId": "09201667368546103820"
     },
     "user_tz": -60
    },
    "id": "15txxErSjkix",
    "outputId": "3de2c887-9857-4236-d642-5080a86732ac"
   },
   "outputs": [
    {
     "data": {
      "text/html": [
       "<table class=\"striped\"><tr><th style=\"text-align:center\">Version</th><th style=\"text-align:center\">Release date</th></tr><td style=\"text-align:center\"><a class=\"teal-text\" href=\"https://github.com/ventolab/cellphonedb-data/releases/tag/v5.0.0\">v5.0.0</a></td><td style=\"text-align:center\">2023-10-31</td></tr><tr><td style=\"text-align:center\"><a class=\"teal-text\" href=\"https://github.com/ventolab/cellphonedb-data/releases/tag/v4.1.0\">v4.1.0</a></td><td style=\"text-align:center\">2023-03-09</td></tr><tr><tr><tr></table>"
      ],
      "text/plain": [
       "<IPython.core.display.HTML object>"
      ]
     },
     "metadata": {},
     "output_type": "display_data"
    }
   ],
   "source": [
    "from IPython.display import HTML, display\n",
    "from cellphonedb.utils import db_releases_utils\n",
    "\n",
    "display(HTML(db_releases_utils.get_remote_database_versions_html()['db_releases_html_table']))\n"
   ]
  },
  {
   "cell_type": "markdown",
   "metadata": {
    "id": "3np0FRXp-jDN"
   },
   "source": [
    "# **Define the version and the path to download database**"
   ]
  },
  {
   "cell_type": "code",
   "execution_count": 15,
   "metadata": {
    "id": "DPGQxAxOlTYB"
   },
   "outputs": [],
   "source": [
    "# -- Version of the databse\n",
    "cpdb_version = 'v5.0.0'\n",
    "\n",
    "# -- Path where the input files to generate the database are located\n",
    "cpdb_target_dir = os.path.join('/home/icb/shahana.dilruba/cellphonedb_t01/', cpdb_version)"
   ]
  },
  {
   "cell_type": "markdown",
   "metadata": {
    "id": "gstcLfIt-ueW"
   },
   "source": [
    "# Download **database**"
   ]
  },
  {
   "cell_type": "code",
   "execution_count": 16,
   "metadata": {
    "colab": {
     "base_uri": "https://localhost:8080/"
    },
    "executionInfo": {
     "elapsed": 1621,
     "status": "ok",
     "timestamp": 1700036723972,
     "user": {
      "displayName": "Shahana Dilruba",
      "userId": "09201667368546103820"
     },
     "user_tz": -60
    },
    "id": "mz1xNefglr2L",
    "outputId": "8abe2fbd-211c-4686-a945-5cbede68e0c9"
   },
   "outputs": [
    {
     "name": "stdout",
     "output_type": "stream",
     "text": [
      "Downloaded cellphonedb.zip into /home/icb/shahana.dilruba/cellphonedb_t01/v5.0.0\n",
      "Downloaded complex_input.csv into /home/icb/shahana.dilruba/cellphonedb_t01/v5.0.0\n",
      "Downloaded gene_input.csv into /home/icb/shahana.dilruba/cellphonedb_t01/v5.0.0\n",
      "Downloaded interaction_input.csv into /home/icb/shahana.dilruba/cellphonedb_t01/v5.0.0\n",
      "Downloaded protein_input.csv into /home/icb/shahana.dilruba/cellphonedb_t01/v5.0.0\n",
      "Downloaded uniprot_synonyms.tsv into /home/icb/shahana.dilruba/cellphonedb_t01/v5.0.0/sources\n",
      "Downloaded transcription_factor_input.csv into /home/icb/shahana.dilruba/cellphonedb_t01/v5.0.0/sources\n"
     ]
    }
   ],
   "source": [
    "from cellphonedb.utils import db_utils\n",
    "\n",
    "db_utils.download_database(cpdb_target_dir, cpdb_version)"
   ]
  },
  {
   "cell_type": "markdown",
   "metadata": {
    "id": "RuLsdE6Z-4No"
   },
   "source": [
    "\n",
    "# **Build database from files**"
   ]
  },
  {
   "cell_type": "code",
   "execution_count": 18,
   "metadata": {
    "colab": {
     "base_uri": "https://localhost:8080/"
    },
    "executionInfo": {
     "elapsed": 243,
     "status": "ok",
     "timestamp": 1700036726249,
     "user": {
      "displayName": "Shahana Dilruba",
      "userId": "09201667368546103820"
     },
     "user_tz": -60
    },
    "id": "pqlEh9y2mYmZ",
    "outputId": "e267d209-d132-40ae-e4a3-b0c59b582c3e"
   },
   "outputs": [
    {
     "data": {
      "text/plain": [
       "['gene_input.csv',\n",
       " 'transcription_factor_input.csv',\n",
       " 'sources',\n",
       " 'interaction_input.csv',\n",
       " 'protein_input.csv',\n",
       " 'complex_input.csv',\n",
       " 'cellphonedb.zip']"
      ]
     },
     "execution_count": 18,
     "metadata": {},
     "output_type": "execute_result"
    }
   ],
   "source": [
    "# -- Path where the input files to generate the database are located\n",
    "cpdb_input_dir = '/home/icb/shahana.dilruba/cellphonedb_t01/v5.0.0'\n",
    "os.listdir(cpdb_input_dir)"
   ]
  },
  {
   "cell_type": "markdown",
   "metadata": {
    "id": "Y5xrJCtvAH6W"
   },
   "source": [
    "# **Generate database**"
   ]
  },
  {
   "cell_type": "markdown",
   "metadata": {
    "id": "uuPOKKdHbfPJ"
   },
   "source": [
    "CREATE DATABASE"
   ]
  },
  {
   "cell_type": "code",
   "execution_count": 19,
   "metadata": {
    "colab": {
     "base_uri": "https://localhost:8080/"
    },
    "executionInfo": {
     "elapsed": 12491,
     "status": "ok",
     "timestamp": 1700036741953,
     "user": {
      "displayName": "Shahana Dilruba",
      "userId": "09201667368546103820"
     },
     "user_tz": -60
    },
    "id": "OrjKL1SNm5ls",
    "outputId": "c7f1eac4-8ab4-45d4-ef74-881591e0b4ee"
   },
   "outputs": [
    {
     "name": "stdout",
     "output_type": "stream",
     "text": [
      "\n",
      "Created /home/icb/shahana.dilruba/cellphonedb_t01/v5.0.0/cellphonedb_02_20_2024_103116.zip successfully\n"
     ]
    }
   ],
   "source": [
    "from cellphonedb.utils import db_utils\n",
    "# -- Creates new database\n",
    "db_utils.create_db(cpdb_input_dir)\n",
    "\n"
   ]
  },
  {
   "cell_type": "code",
   "execution_count": 22,
   "metadata": {},
   "outputs": [
    {
     "data": {
      "text/plain": [
       "'/home/icb/shahana.dilruba'"
      ]
     },
     "execution_count": 22,
     "metadata": {},
     "output_type": "execute_result"
    }
   ],
   "source": [
    "pwd"
   ]
  },
  {
   "cell_type": "code",
   "execution_count": 5,
   "metadata": {
    "colab": {
     "base_uri": "https://localhost:8080/"
    },
    "executionInfo": {
     "elapsed": 12,
     "status": "ok",
     "timestamp": 1700036742956,
     "user": {
      "displayName": "Shahana Dilruba",
      "userId": "09201667368546103820"
     },
     "user_tz": -60
    },
    "id": "PERodefusps4",
    "outputId": "8d54c2f9-4c2f-4ae5-9917-78d45d6cf95b"
   },
   "outputs": [],
   "source": [
    "mv /home/icb/shahana.dilruba/cellphonedb_t01/v5.0.0/cellphonedb_02_20_2024_103116.zip /home/icb/shahana.dilruba/cellphonedb_t01/v5.0.0/cellphonedb.zip\n"
   ]
  },
  {
   "cell_type": "markdown",
   "metadata": {
    "id": "C5l1XKKoWrHo"
   },
   "source": [
    "**METHOD1**"
   ]
  },
  {
   "cell_type": "markdown",
   "metadata": {
    "id": "fmbmJtATERjr"
   },
   "source": [
    "# Input **files**"
   ]
  },
  {
   "cell_type": "code",
   "execution_count": 10,
   "metadata": {
    "id": "RzKX9l7TWhSp"
   },
   "outputs": [],
   "source": [
    "cpdb_file_path = '/home/icb/shahana.dilruba/cellphonedb_t01/v5.0.0/cellphonedb.zip'\n",
    "meta_file_path = '/home/icb/shahana.dilruba/metadata.tsv'\n",
    "counts_file_path = '/home/icb/shahana.dilruba/pertpy_dir/2301_annot_patient_integrated.h5ad'\n",
    "out_path = '/home/icb/shahana.dilruba/results/method1'"
   ]
  },
  {
   "cell_type": "code",
   "execution_count": 8,
   "metadata": {},
   "outputs": [],
   "source": [
    "import pandas as pd"
   ]
  },
  {
   "cell_type": "markdown",
   "metadata": {
    "id": "piSZfsG1EY1g"
   },
   "source": [
    "\n",
    "# Inspect input **files**"
   ]
  },
  {
   "cell_type": "code",
   "execution_count": 11,
   "metadata": {
    "colab": {
     "base_uri": "https://localhost:8080/",
     "height": 143
    },
    "executionInfo": {
     "elapsed": 679,
     "status": "ok",
     "timestamp": 1700036983034,
     "user": {
      "displayName": "Shahana Dilruba",
      "userId": "09201667368546103820"
     },
     "user_tz": -60
    },
    "id": "NORtJRv0EbBz",
    "outputId": "d21ee89e-6f13-4807-c5da-ed5113633365"
   },
   "outputs": [
    {
     "name": "stderr",
     "output_type": "stream",
     "text": [
      "/tmp/ipykernel_3300111/620052189.py:1: DtypeWarning: Columns (9) have mixed types. Specify dtype option on import or set low_memory=False.\n",
      "  metadata = pd.read_csv(meta_file_path, sep = '\\t')\n"
     ]
    },
    {
     "data": {
      "text/html": [
       "<div>\n",
       "<style scoped>\n",
       "    .dataframe tbody tr th:only-of-type {\n",
       "        vertical-align: middle;\n",
       "    }\n",
       "\n",
       "    .dataframe tbody tr th {\n",
       "        vertical-align: top;\n",
       "    }\n",
       "\n",
       "    .dataframe thead th {\n",
       "        text-align: right;\n",
       "    }\n",
       "</style>\n",
       "<table border=\"1\" class=\"dataframe\">\n",
       "  <thead>\n",
       "    <tr style=\"text-align: right;\">\n",
       "      <th></th>\n",
       "      <th>Unnamed: 0</th>\n",
       "      <th>identifier</th>\n",
       "      <th>patient</th>\n",
       "      <th>name</th>\n",
       "      <th>barcode_round</th>\n",
       "      <th>sample</th>\n",
       "      <th>viral_counts</th>\n",
       "      <th>treatment</th>\n",
       "      <th>treatment_virus</th>\n",
       "      <th>infected</th>\n",
       "      <th>...</th>\n",
       "      <th>celltype_coarse</th>\n",
       "      <th>cell_type</th>\n",
       "      <th>infection_label</th>\n",
       "      <th>_scvi_batch</th>\n",
       "      <th>_scvi_labels</th>\n",
       "      <th>leiden_coarse</th>\n",
       "      <th>leiden_fine</th>\n",
       "      <th>leiden_subset</th>\n",
       "      <th>celltype_fine</th>\n",
       "      <th>celltype_approx</th>\n",
       "    </tr>\n",
       "  </thead>\n",
       "  <tbody>\n",
       "    <tr>\n",
       "      <th>0</th>\n",
       "      <td>muc21058_AAACCCAAGTTTGAGA</td>\n",
       "      <td>muc21058</td>\n",
       "      <td>patient_1</td>\n",
       "      <td>ALI_1_Barcode_1</td>\n",
       "      <td>ALI_1</td>\n",
       "      <td>3</td>\n",
       "      <td>0.0</td>\n",
       "      <td>TNFa_IFNg</td>\n",
       "      <td>TNFa_IFNg + sars-cov-2</td>\n",
       "      <td>True</td>\n",
       "      <td>...</td>\n",
       "      <td>13,1/club</td>\n",
       "      <td>club</td>\n",
       "      <td>infected</td>\n",
       "      <td>0</td>\n",
       "      <td>0</td>\n",
       "      <td>3</td>\n",
       "      <td>13,1</td>\n",
       "      <td>13,1</td>\n",
       "      <td>sub5/club</td>\n",
       "      <td>13,1/club</td>\n",
       "    </tr>\n",
       "    <tr>\n",
       "      <th>1</th>\n",
       "      <td>muc21058_AAACCCACACGCGCAT</td>\n",
       "      <td>muc21058</td>\n",
       "      <td>patient_1</td>\n",
       "      <td>ALI_1_Barcode_1</td>\n",
       "      <td>ALI_1</td>\n",
       "      <td>3</td>\n",
       "      <td>0.0</td>\n",
       "      <td>IFNa (b_d)</td>\n",
       "      <td>IFNa (b_d)</td>\n",
       "      <td>False</td>\n",
       "      <td>...</td>\n",
       "      <td>14,0/club</td>\n",
       "      <td>club</td>\n",
       "      <td>uninfected</td>\n",
       "      <td>0</td>\n",
       "      <td>0</td>\n",
       "      <td>4</td>\n",
       "      <td>14,0</td>\n",
       "      <td>14,0</td>\n",
       "      <td>sub3/club</td>\n",
       "      <td>14,0/club</td>\n",
       "    </tr>\n",
       "    <tr>\n",
       "      <th>2</th>\n",
       "      <td>muc21058_AAACCCACAGACACAG</td>\n",
       "      <td>muc21058</td>\n",
       "      <td>patient_1</td>\n",
       "      <td>ALI_1_Barcode_1</td>\n",
       "      <td>ALI_1</td>\n",
       "      <td>3</td>\n",
       "      <td>0.0</td>\n",
       "      <td>IFNg</td>\n",
       "      <td>IFNg</td>\n",
       "      <td>False</td>\n",
       "      <td>...</td>\n",
       "      <td>10/suprabasal</td>\n",
       "      <td>suprabasal</td>\n",
       "      <td>uninfected</td>\n",
       "      <td>0</td>\n",
       "      <td>0</td>\n",
       "      <td>6</td>\n",
       "      <td>10</td>\n",
       "      <td>10</td>\n",
       "      <td>10/suprabasal</td>\n",
       "      <td>10/suprabasal</td>\n",
       "    </tr>\n",
       "  </tbody>\n",
       "</table>\n",
       "<p>3 rows × 27 columns</p>\n",
       "</div>"
      ],
      "text/plain": [
       "                  Unnamed: 0 identifier    patient             name  \\\n",
       "0  muc21058_AAACCCAAGTTTGAGA   muc21058  patient_1  ALI_1_Barcode_1   \n",
       "1  muc21058_AAACCCACACGCGCAT   muc21058  patient_1  ALI_1_Barcode_1   \n",
       "2  muc21058_AAACCCACAGACACAG   muc21058  patient_1  ALI_1_Barcode_1   \n",
       "\n",
       "  barcode_round  sample  viral_counts   treatment         treatment_virus  \\\n",
       "0         ALI_1       3           0.0   TNFa_IFNg  TNFa_IFNg + sars-cov-2   \n",
       "1         ALI_1       3           0.0  IFNa (b_d)              IFNa (b_d)   \n",
       "2         ALI_1       3           0.0        IFNg                    IFNg   \n",
       "\n",
       "  infected  ...  celltype_coarse   cell_type  infection_label  _scvi_batch  \\\n",
       "0     True  ...        13,1/club        club         infected            0   \n",
       "1    False  ...        14,0/club        club       uninfected            0   \n",
       "2    False  ...    10/suprabasal  suprabasal       uninfected            0   \n",
       "\n",
       "   _scvi_labels leiden_coarse leiden_fine leiden_subset  celltype_fine  \\\n",
       "0             0             3        13,1          13,1      sub5/club   \n",
       "1             0             4        14,0          14,0      sub3/club   \n",
       "2             0             6          10            10  10/suprabasal   \n",
       "\n",
       "  celltype_approx  \n",
       "0       13,1/club  \n",
       "1       14,0/club  \n",
       "2   10/suprabasal  \n",
       "\n",
       "[3 rows x 27 columns]"
      ]
     },
     "execution_count": 11,
     "metadata": {},
     "output_type": "execute_result"
    }
   ],
   "source": [
    "metadata = pd.read_csv(meta_file_path, sep = '\\t')\n",
    "metadata.head(3)"
   ]
  },
  {
   "cell_type": "markdown",
   "metadata": {
    "id": "bQPX4Kf4Gsse"
   },
   "source": [
    "# **The counts files is a scanpy h5ad object. The dimensions and order of this object must coincide with the dimensions of the metadata file (i.e. must have the same number of cells in both files)**\n"
   ]
  },
  {
   "cell_type": "code",
   "execution_count": 12,
   "metadata": {
    "id": "tqoJJvolGvIG"
   },
   "outputs": [],
   "source": [
    "import anndata"
   ]
  },
  {
   "cell_type": "code",
   "execution_count": 13,
   "metadata": {
    "colab": {
     "base_uri": "https://localhost:8080/"
    },
    "executionInfo": {
     "elapsed": 5471,
     "status": "ok",
     "timestamp": 1700037183061,
     "user": {
      "displayName": "Shahana Dilruba",
      "userId": "09201667368546103820"
     },
     "user_tz": -60
    },
    "id": "O0wVpxORHD9W",
    "outputId": "0ad3e810-ae84-4b15-96b4-a91206778803"
   },
   "outputs": [
    {
     "data": {
      "text/plain": [
       "(254630, 18115)"
      ]
     },
     "execution_count": 13,
     "metadata": {},
     "output_type": "execute_result"
    }
   ],
   "source": [
    "adata = anndata.read_h5ad(counts_file_path)\n",
    "adata.shape"
   ]
  },
  {
   "cell_type": "markdown",
   "metadata": {
    "id": "igEypIVOHPau"
   },
   "source": [
    "# **Check barcodes in metadata and counts are the same.**\n"
   ]
  },
  {
   "cell_type": "code",
   "execution_count": 16,
   "metadata": {
    "colab": {
     "base_uri": "https://localhost:8080/"
    },
    "executionInfo": {
     "elapsed": 265,
     "status": "ok",
     "timestamp": 1700037485888,
     "user": {
      "displayName": "Shahana Dilruba",
      "userId": "09201667368546103820"
     },
     "user_tz": -60
    },
    "id": "lsT15ScVIQ2M",
    "outputId": "3109a650-8f59-4781-f069-27f6256eba3f"
   },
   "outputs": [
    {
     "data": {
      "text/plain": [
       "True"
      ]
     },
     "execution_count": 16,
     "metadata": {},
     "output_type": "execute_result"
    }
   ],
   "source": [
    "list(adata.obs.index).sort() == list(metadata['Unnamed: 0']).sort()"
   ]
  },
  {
   "cell_type": "markdown",
   "metadata": {
    "id": "bkBcgs7QIcQI"
   },
   "source": [
    "# No microenvironment data included in this analysis"
   ]
  },
  {
   "cell_type": "markdown",
   "metadata": {
    "id": "KMg0qxktJTqC"
   },
   "source": [
    "\n",
    "# Run basic **analysis with METHOD 1**"
   ]
  },
  {
   "cell_type": "code",
   "execution_count": 17,
   "metadata": {
    "colab": {
     "base_uri": "https://localhost:8080/"
    },
    "executionInfo": {
     "elapsed": 158325,
     "status": "ok",
     "timestamp": 1700038028826,
     "user": {
      "displayName": "Shahana Dilruba",
      "userId": "09201667368546103820"
     },
     "user_tz": -60
    },
    "id": "LaQkQ4OxJTQ0",
    "outputId": "a8a3bfa1-1474-4cfe-9bb9-c8bc1bf03f7d"
   },
   "outputs": [
    {
     "name": "stdout",
     "output_type": "stream",
     "text": [
      "[ ][CORE][20/02/24-12:53:44][INFO] [Non Statistical Method] Threshold:0.1 Precision:3\n",
      "Reading user files...\n"
     ]
    },
    {
     "name": "stderr",
     "output_type": "stream",
     "text": [
      "/home/icb/shahana.dilruba/miniforge3/envs/pertpy/lib/python3.10/site-packages/cellphonedb/utils/file_utils.py:119: DtypeWarning: Columns (9) have mixed types. Specify dtype option on import or set low_memory=False.\n",
      "  return pd.read_csv(file_stream, sep=separator, index_col=0 if index_column_first else None, dtype=dtype,\n"
     ]
    },
    {
     "name": "stdout",
     "output_type": "stream",
     "text": [
      "The following user files were loaded successfully:\n",
      "/home/icb/shahana.dilruba/pertpy_dir/2301_annot_patient_integrated.h5ad\n",
      "/home/icb/shahana.dilruba/metadata.tsv\n",
      "[ ][CORE][20/02/24-12:54:44][INFO] Running Basic Analysis\n",
      "[ ][CORE][20/02/24-12:54:44][INFO] Building results\n",
      "[ ][CORE][20/02/24-12:54:45][INFO] Scoring interactions: Filtering genes per cell type..\n"
     ]
    },
    {
     "name": "stderr",
     "output_type": "stream",
     "text": [
      "100%|███████████████████████████████████████████████████████████████████████████████████| 13/13 [00:07<00:00,  1.86it/s]"
     ]
    },
    {
     "name": "stdout",
     "output_type": "stream",
     "text": [
      "[ ][CORE][20/02/24-12:54:53][INFO] Scoring interactions: Calculating mean expression of each gene per group/cell type..\n"
     ]
    },
    {
     "name": "stderr",
     "output_type": "stream",
     "text": [
      "\n",
      "100%|███████████████████████████████████████████████████████████████████████████████████| 13/13 [00:01<00:00,  8.50it/s]\n",
      "/home/icb/shahana.dilruba/miniforge3/envs/pertpy/lib/python3.10/site-packages/cellphonedb/utils/scoring_utils.py:138: FutureWarning: A value is trying to be set on a copy of a DataFrame or Series through chained assignment using an inplace method.\n",
      "The behavior will change in pandas 3.0. This inplace method will never work because the intermediate object on which we are setting values always behaves as a copy.\n",
      "\n",
      "For example, when doing 'df[col].method(value, inplace=True)', try using 'df.method({col: value}, inplace=True)' or df[col] = df[col].method(value) instead, to perform the operation inplace on the original object.\n",
      "\n",
      "\n",
      "  matrix[index_name].replace(to_replace=id2name, inplace=True)\n"
     ]
    },
    {
     "name": "stdout",
     "output_type": "stream",
     "text": [
      "[ ][CORE][20/02/24-12:54:55][INFO] Scoring interactions: Calculating scores for all interactions and cell types..\n"
     ]
    },
    {
     "name": "stderr",
     "output_type": "stream",
     "text": [
      "100%|█████████████████████████████████████████████████████████████████████████████████| 169/169 [02:04<00:00,  1.35it/s]\n"
     ]
    },
    {
     "name": "stdout",
     "output_type": "stream",
     "text": [
      "Saved means_result to /home/icb/shahana.dilruba/results/method1/simple_analysis_means_result_02_20_2024_125701.txt\n",
      "Saved deconvoluted to /home/icb/shahana.dilruba/results/method1/simple_analysis_deconvoluted_02_20_2024_125701.txt\n",
      "Saved deconvoluted_percents to /home/icb/shahana.dilruba/results/method1/simple_analysis_deconvoluted_percents_02_20_2024_125701.txt\n",
      "Saved interaction_scores to /home/icb/shahana.dilruba/results/method1/simple_analysis_interaction_scores_02_20_2024_125701.txt\n"
     ]
    }
   ],
   "source": [
    "\n",
    "\n",
    "from cellphonedb.src.core.methods import cpdb_analysis_method\n",
    "\n",
    "cpdb_results = cpdb_analysis_method.call(\n",
    "    cpdb_file_path = cpdb_file_path,           # mandatory: CellphoneDB database zip file.\n",
    "    meta_file_path = meta_file_path,           # mandatory: tsv file defining barcodes to cell label.\n",
    "    counts_file_path = counts_file_path,       # mandatory: normalized count matrix.\n",
    "    counts_data = 'hgnc_symbol',               # defines the gene annotation in counts matrix.\n",
    "    score_interactions = True,                 # optional: whether to score interactions or not.\n",
    "    output_path = out_path,                    # Path to save results    microenvs_file_path = None,\n",
    "    separator = '|',                           # Sets the string to employ to separate cells in the results dataframes \"cellA|CellB\".\n",
    "    threads = 5,                               # number of threads to use in the analysis.\n",
    "    threshold = 0.1,                           # defines the min % of cells expressing a gene for this to be employed in the analysis.\n",
    "    result_precision = 3,                      # Sets the rounding for the mean values in significan_means.\n",
    "    debug = False,                             # Saves all intermediate tables emplyed during the analysis in pkl format.\n",
    "    output_suffix = None                       # Replaces the timestamp in the output files by a user defined string in the  (default: None)\n",
    ")\n",
    "\n"
   ]
  },
  {
   "cell_type": "code",
   "execution_count": 18,
   "metadata": {
    "colab": {
     "base_uri": "https://localhost:8080/"
    },
    "executionInfo": {
     "elapsed": 303,
     "status": "ok",
     "timestamp": 1700038039720,
     "user": {
      "displayName": "Shahana Dilruba",
      "userId": "09201667368546103820"
     },
     "user_tz": -60
    },
    "id": "pDcQvZ-4KVwv",
    "outputId": "5064210f-c0f1-43f1-902c-62c48f3a6eaf"
   },
   "outputs": [
    {
     "name": "stdout",
     "output_type": "stream",
     "text": [
      "dict_keys(['means_result', 'deconvoluted', 'deconvoluted_percents', 'interaction_scores'])\n"
     ]
    }
   ],
   "source": [
    "print(cpdb_results.keys())"
   ]
  },
  {
   "cell_type": "code",
   "execution_count": 19,
   "metadata": {
    "colab": {
     "base_uri": "https://localhost:8080/",
     "height": 178
    },
    "executionInfo": {
     "elapsed": 354,
     "status": "ok",
     "timestamp": 1700038065850,
     "user": {
      "displayName": "Shahana Dilruba",
      "userId": "09201667368546103820"
     },
     "user_tz": -60
    },
    "id": "FrvigHH9KVn2",
    "outputId": "ccbee98b-d276-4393-8b8e-bf9dc190f552"
   },
   "outputs": [
    {
     "data": {
      "text/html": [
       "<div>\n",
       "<style scoped>\n",
       "    .dataframe tbody tr th:only-of-type {\n",
       "        vertical-align: middle;\n",
       "    }\n",
       "\n",
       "    .dataframe tbody tr th {\n",
       "        vertical-align: top;\n",
       "    }\n",
       "\n",
       "    .dataframe thead th {\n",
       "        text-align: right;\n",
       "    }\n",
       "</style>\n",
       "<table border=\"1\" class=\"dataframe\">\n",
       "  <thead>\n",
       "    <tr style=\"text-align: right;\">\n",
       "      <th></th>\n",
       "      <th>id_cp_interaction</th>\n",
       "      <th>interacting_pair</th>\n",
       "      <th>partner_a</th>\n",
       "      <th>partner_b</th>\n",
       "      <th>gene_a</th>\n",
       "      <th>gene_b</th>\n",
       "      <th>secreted</th>\n",
       "      <th>receptor_a</th>\n",
       "      <th>receptor_b</th>\n",
       "      <th>annotation_strategy</th>\n",
       "      <th>...</th>\n",
       "      <th>viral|basal prolif.</th>\n",
       "      <th>viral|ciliated</th>\n",
       "      <th>viral|club</th>\n",
       "      <th>viral|deuterosomal</th>\n",
       "      <th>viral|goblet</th>\n",
       "      <th>viral|hillock</th>\n",
       "      <th>viral|ionocytes</th>\n",
       "      <th>viral|suprabasal</th>\n",
       "      <th>viral|tuft</th>\n",
       "      <th>viral|viral</th>\n",
       "    </tr>\n",
       "  </thead>\n",
       "  <tbody>\n",
       "    <tr>\n",
       "      <th>0</th>\n",
       "      <td>CPI-SC0A2DB962D</td>\n",
       "      <td>CDH1_integrin_a2b1_complex</td>\n",
       "      <td>simple:P12830</td>\n",
       "      <td>complex:integrin_a2b1_complex</td>\n",
       "      <td>CDH1</td>\n",
       "      <td>NaN</td>\n",
       "      <td>False</td>\n",
       "      <td>False</td>\n",
       "      <td>False</td>\n",
       "      <td>curated</td>\n",
       "      <td>...</td>\n",
       "      <td>0.512</td>\n",
       "      <td>0.449</td>\n",
       "      <td>0.407</td>\n",
       "      <td>0.392</td>\n",
       "      <td>0.339</td>\n",
       "      <td>0.537</td>\n",
       "      <td>0.358</td>\n",
       "      <td>0.492</td>\n",
       "      <td>0.347</td>\n",
       "      <td>0.456</td>\n",
       "    </tr>\n",
       "    <tr>\n",
       "      <th>1</th>\n",
       "      <td>CPI-SC09D882C18</td>\n",
       "      <td>CDH1_integrin_aEb7_complex</td>\n",
       "      <td>simple:P12830</td>\n",
       "      <td>complex:integrin_aEb7_complex</td>\n",
       "      <td>CDH1</td>\n",
       "      <td>NaN</td>\n",
       "      <td>False</td>\n",
       "      <td>False</td>\n",
       "      <td>False</td>\n",
       "      <td>curated</td>\n",
       "      <td>...</td>\n",
       "      <td>0.201</td>\n",
       "      <td>0.201</td>\n",
       "      <td>0.201</td>\n",
       "      <td>0.200</td>\n",
       "      <td>0.200</td>\n",
       "      <td>0.201</td>\n",
       "      <td>0.000</td>\n",
       "      <td>0.202</td>\n",
       "      <td>0.202</td>\n",
       "      <td>0.201</td>\n",
       "    </tr>\n",
       "  </tbody>\n",
       "</table>\n",
       "<p>2 rows × 182 columns</p>\n",
       "</div>"
      ],
      "text/plain": [
       "  id_cp_interaction            interacting_pair      partner_a  \\\n",
       "0   CPI-SC0A2DB962D  CDH1_integrin_a2b1_complex  simple:P12830   \n",
       "1   CPI-SC09D882C18  CDH1_integrin_aEb7_complex  simple:P12830   \n",
       "\n",
       "                       partner_b gene_a gene_b  secreted  receptor_a  \\\n",
       "0  complex:integrin_a2b1_complex   CDH1    NaN     False       False   \n",
       "1  complex:integrin_aEb7_complex   CDH1    NaN     False       False   \n",
       "\n",
       "   receptor_b annotation_strategy  ...  viral|basal prolif. viral|ciliated  \\\n",
       "0       False             curated  ...                0.512          0.449   \n",
       "1       False             curated  ...                0.201          0.201   \n",
       "\n",
       "  viral|club  viral|deuterosomal  viral|goblet  viral|hillock  \\\n",
       "0      0.407               0.392         0.339          0.537   \n",
       "1      0.201               0.200         0.200          0.201   \n",
       "\n",
       "   viral|ionocytes  viral|suprabasal  viral|tuft  viral|viral  \n",
       "0            0.358             0.492       0.347        0.456  \n",
       "1            0.000             0.202       0.202        0.201  \n",
       "\n",
       "[2 rows x 182 columns]"
      ]
     },
     "execution_count": 19,
     "metadata": {},
     "output_type": "execute_result"
    }
   ],
   "source": [
    "cpdb_results['means_result'].head(2)"
   ]
  },
  {
   "cell_type": "code",
   "execution_count": 20,
   "metadata": {
    "colab": {
     "base_uri": "https://localhost:8080/",
     "height": 178
    },
    "executionInfo": {
     "elapsed": 313,
     "status": "ok",
     "timestamp": 1700038348215,
     "user": {
      "displayName": "Shahana Dilruba",
      "userId": "09201667368546103820"
     },
     "user_tz": -60
    },
    "id": "IsupZt5gKVfO",
    "outputId": "ae4da7dd-010b-49c9-9bae-d988500b1129"
   },
   "outputs": [
    {
     "data": {
      "text/html": [
       "<div>\n",
       "<style scoped>\n",
       "    .dataframe tbody tr th:only-of-type {\n",
       "        vertical-align: middle;\n",
       "    }\n",
       "\n",
       "    .dataframe tbody tr th {\n",
       "        vertical-align: top;\n",
       "    }\n",
       "\n",
       "    .dataframe thead th {\n",
       "        text-align: right;\n",
       "    }\n",
       "</style>\n",
       "<table border=\"1\" class=\"dataframe\">\n",
       "  <thead>\n",
       "    <tr style=\"text-align: right;\">\n",
       "      <th></th>\n",
       "      <th>id_cp_interaction</th>\n",
       "      <th>interacting_pair</th>\n",
       "      <th>partner_a</th>\n",
       "      <th>partner_b</th>\n",
       "      <th>gene_a</th>\n",
       "      <th>gene_b</th>\n",
       "      <th>secreted</th>\n",
       "      <th>receptor_a</th>\n",
       "      <th>receptor_b</th>\n",
       "      <th>annotation_strategy</th>\n",
       "      <th>...</th>\n",
       "      <th>viral|basal prolif.</th>\n",
       "      <th>viral|ciliated</th>\n",
       "      <th>viral|club</th>\n",
       "      <th>viral|deuterosomal</th>\n",
       "      <th>viral|goblet</th>\n",
       "      <th>viral|hillock</th>\n",
       "      <th>viral|ionocytes</th>\n",
       "      <th>viral|suprabasal</th>\n",
       "      <th>viral|tuft</th>\n",
       "      <th>viral|viral</th>\n",
       "    </tr>\n",
       "  </thead>\n",
       "  <tbody>\n",
       "    <tr>\n",
       "      <th>0</th>\n",
       "      <td>CPI-SC0A2DB962D</td>\n",
       "      <td>CDH1_integrin_a2b1_complex</td>\n",
       "      <td>simple:P12830</td>\n",
       "      <td>complex:integrin_a2b1_complex</td>\n",
       "      <td>CDH1</td>\n",
       "      <td>NaN</td>\n",
       "      <td>False</td>\n",
       "      <td>False</td>\n",
       "      <td>False</td>\n",
       "      <td>curated</td>\n",
       "      <td>...</td>\n",
       "      <td>17.478</td>\n",
       "      <td>7.652</td>\n",
       "      <td>9.337</td>\n",
       "      <td>8.278</td>\n",
       "      <td>4.134</td>\n",
       "      <td>16.692</td>\n",
       "      <td>5.929</td>\n",
       "      <td>13.559</td>\n",
       "      <td>5.514</td>\n",
       "      <td>11.772</td>\n",
       "    </tr>\n",
       "    <tr>\n",
       "      <th>1</th>\n",
       "      <td>CPI-SC09D882C18</td>\n",
       "      <td>CDH1_integrin_aEb7_complex</td>\n",
       "      <td>simple:P12830</td>\n",
       "      <td>complex:integrin_aEb7_complex</td>\n",
       "      <td>CDH1</td>\n",
       "      <td>NaN</td>\n",
       "      <td>False</td>\n",
       "      <td>False</td>\n",
       "      <td>False</td>\n",
       "      <td>curated</td>\n",
       "      <td>...</td>\n",
       "      <td>0.000</td>\n",
       "      <td>0.000</td>\n",
       "      <td>0.000</td>\n",
       "      <td>0.000</td>\n",
       "      <td>0.000</td>\n",
       "      <td>0.000</td>\n",
       "      <td>0.000</td>\n",
       "      <td>0.000</td>\n",
       "      <td>0.000</td>\n",
       "      <td>0.000</td>\n",
       "    </tr>\n",
       "  </tbody>\n",
       "</table>\n",
       "<p>2 rows × 182 columns</p>\n",
       "</div>"
      ],
      "text/plain": [
       "  id_cp_interaction            interacting_pair      partner_a  \\\n",
       "0   CPI-SC0A2DB962D  CDH1_integrin_a2b1_complex  simple:P12830   \n",
       "1   CPI-SC09D882C18  CDH1_integrin_aEb7_complex  simple:P12830   \n",
       "\n",
       "                       partner_b gene_a gene_b  secreted  receptor_a  \\\n",
       "0  complex:integrin_a2b1_complex   CDH1    NaN     False       False   \n",
       "1  complex:integrin_aEb7_complex   CDH1    NaN     False       False   \n",
       "\n",
       "   receptor_b annotation_strategy  ...  viral|basal prolif. viral|ciliated  \\\n",
       "0       False             curated  ...               17.478          7.652   \n",
       "1       False             curated  ...                0.000          0.000   \n",
       "\n",
       "  viral|club  viral|deuterosomal  viral|goblet  viral|hillock  \\\n",
       "0      9.337               8.278         4.134         16.692   \n",
       "1      0.000               0.000         0.000          0.000   \n",
       "\n",
       "   viral|ionocytes  viral|suprabasal  viral|tuft  viral|viral  \n",
       "0            5.929            13.559       5.514       11.772  \n",
       "1            0.000             0.000       0.000        0.000  \n",
       "\n",
       "[2 rows x 182 columns]"
      ]
     },
     "execution_count": 20,
     "metadata": {},
     "output_type": "execute_result"
    }
   ],
   "source": [
    "cpdb_results['interaction_scores'].head(2)"
   ]
  },
  {
   "cell_type": "code",
   "execution_count": 21,
   "metadata": {
    "colab": {
     "base_uri": "https://localhost:8080/",
     "height": 192
    },
    "executionInfo": {
     "elapsed": 317,
     "status": "ok",
     "timestamp": 1700038374151,
     "user": {
      "displayName": "Shahana Dilruba",
      "userId": "09201667368546103820"
     },
     "user_tz": -60
    },
    "id": "fq93ibwXKVRG",
    "outputId": "b2c01445-2c89-4b56-d9d0-3f8be2d5fe22"
   },
   "outputs": [
    {
     "data": {
      "text/html": [
       "<div>\n",
       "<style scoped>\n",
       "    .dataframe tbody tr th:only-of-type {\n",
       "        vertical-align: middle;\n",
       "    }\n",
       "\n",
       "    .dataframe tbody tr th {\n",
       "        vertical-align: top;\n",
       "    }\n",
       "\n",
       "    .dataframe thead th {\n",
       "        text-align: right;\n",
       "    }\n",
       "</style>\n",
       "<table border=\"1\" class=\"dataframe\">\n",
       "  <thead>\n",
       "    <tr style=\"text-align: right;\">\n",
       "      <th></th>\n",
       "      <th>gene_name</th>\n",
       "      <th>uniprot</th>\n",
       "      <th>is_complex</th>\n",
       "      <th>protein_name</th>\n",
       "      <th>complex_name</th>\n",
       "      <th>id_cp_interaction</th>\n",
       "      <th>gene</th>\n",
       "      <th>?</th>\n",
       "      <th>PNEC</th>\n",
       "      <th>basal</th>\n",
       "      <th>basal prolif.</th>\n",
       "      <th>ciliated</th>\n",
       "      <th>club</th>\n",
       "      <th>deuterosomal</th>\n",
       "      <th>goblet</th>\n",
       "      <th>hillock</th>\n",
       "      <th>ionocytes</th>\n",
       "      <th>suprabasal</th>\n",
       "      <th>tuft</th>\n",
       "      <th>viral</th>\n",
       "    </tr>\n",
       "    <tr>\n",
       "      <th>multidata_id</th>\n",
       "      <th></th>\n",
       "      <th></th>\n",
       "      <th></th>\n",
       "      <th></th>\n",
       "      <th></th>\n",
       "      <th></th>\n",
       "      <th></th>\n",
       "      <th></th>\n",
       "      <th></th>\n",
       "      <th></th>\n",
       "      <th></th>\n",
       "      <th></th>\n",
       "      <th></th>\n",
       "      <th></th>\n",
       "      <th></th>\n",
       "      <th></th>\n",
       "      <th></th>\n",
       "      <th></th>\n",
       "      <th></th>\n",
       "      <th></th>\n",
       "    </tr>\n",
       "  </thead>\n",
       "  <tbody>\n",
       "    <tr>\n",
       "      <th>1355</th>\n",
       "      <td>UBASH3B</td>\n",
       "      <td>Q8TF42</td>\n",
       "      <td>True</td>\n",
       "      <td>UBS3B_HUMAN</td>\n",
       "      <td>Dehydroepiandrosterone_bySTS</td>\n",
       "      <td>CPI-CS09B8977D7</td>\n",
       "      <td>UBASH3B</td>\n",
       "      <td>0.011</td>\n",
       "      <td>0.0</td>\n",
       "      <td>0.008</td>\n",
       "      <td>0.02</td>\n",
       "      <td>0.01</td>\n",
       "      <td>0.01</td>\n",
       "      <td>0.006</td>\n",
       "      <td>0.009</td>\n",
       "      <td>0.012</td>\n",
       "      <td>0.01</td>\n",
       "      <td>0.01</td>\n",
       "      <td>0.003</td>\n",
       "      <td>0.007</td>\n",
       "    </tr>\n",
       "    <tr>\n",
       "      <th>1355</th>\n",
       "      <td>UBASH3B</td>\n",
       "      <td>Q8TF42</td>\n",
       "      <td>True</td>\n",
       "      <td>UBS3B_HUMAN</td>\n",
       "      <td>Dehydroepiandrosterone_bySTS</td>\n",
       "      <td>CPI-CS05760BB78</td>\n",
       "      <td>UBASH3B</td>\n",
       "      <td>0.011</td>\n",
       "      <td>0.0</td>\n",
       "      <td>0.008</td>\n",
       "      <td>0.02</td>\n",
       "      <td>0.01</td>\n",
       "      <td>0.01</td>\n",
       "      <td>0.006</td>\n",
       "      <td>0.009</td>\n",
       "      <td>0.012</td>\n",
       "      <td>0.01</td>\n",
       "      <td>0.01</td>\n",
       "      <td>0.003</td>\n",
       "      <td>0.007</td>\n",
       "    </tr>\n",
       "  </tbody>\n",
       "</table>\n",
       "</div>"
      ],
      "text/plain": [
       "             gene_name uniprot  is_complex protein_name  \\\n",
       "multidata_id                                              \n",
       "1355           UBASH3B  Q8TF42        True  UBS3B_HUMAN   \n",
       "1355           UBASH3B  Q8TF42        True  UBS3B_HUMAN   \n",
       "\n",
       "                              complex_name id_cp_interaction     gene      ?  \\\n",
       "multidata_id                                                                   \n",
       "1355          Dehydroepiandrosterone_bySTS   CPI-CS09B8977D7  UBASH3B  0.011   \n",
       "1355          Dehydroepiandrosterone_bySTS   CPI-CS05760BB78  UBASH3B  0.011   \n",
       "\n",
       "              PNEC  basal  basal prolif.  ciliated  club  deuterosomal  \\\n",
       "multidata_id                                                             \n",
       "1355           0.0  0.008           0.02      0.01  0.01         0.006   \n",
       "1355           0.0  0.008           0.02      0.01  0.01         0.006   \n",
       "\n",
       "              goblet  hillock  ionocytes  suprabasal   tuft  viral  \n",
       "multidata_id                                                        \n",
       "1355           0.009    0.012       0.01        0.01  0.003  0.007  \n",
       "1355           0.009    0.012       0.01        0.01  0.003  0.007  "
      ]
     },
     "execution_count": 21,
     "metadata": {},
     "output_type": "execute_result"
    }
   ],
   "source": [
    "cpdb_results['deconvoluted'].head(2)"
   ]
  },
  {
   "cell_type": "code",
   "execution_count": 22,
   "metadata": {
    "colab": {
     "base_uri": "https://localhost:8080/",
     "height": 192
    },
    "executionInfo": {
     "elapsed": 458,
     "status": "ok",
     "timestamp": 1700038396779,
     "user": {
      "displayName": "Shahana Dilruba",
      "userId": "09201667368546103820"
     },
     "user_tz": -60
    },
    "id": "lbbVol5nLz2G",
    "outputId": "4a3b585c-1d90-481e-dbe0-08f4a0b4f7d4"
   },
   "outputs": [
    {
     "data": {
      "text/html": [
       "<div>\n",
       "<style scoped>\n",
       "    .dataframe tbody tr th:only-of-type {\n",
       "        vertical-align: middle;\n",
       "    }\n",
       "\n",
       "    .dataframe tbody tr th {\n",
       "        vertical-align: top;\n",
       "    }\n",
       "\n",
       "    .dataframe thead th {\n",
       "        text-align: right;\n",
       "    }\n",
       "</style>\n",
       "<table border=\"1\" class=\"dataframe\">\n",
       "  <thead>\n",
       "    <tr style=\"text-align: right;\">\n",
       "      <th></th>\n",
       "      <th>gene_name</th>\n",
       "      <th>uniprot</th>\n",
       "      <th>is_complex</th>\n",
       "      <th>protein_name</th>\n",
       "      <th>complex_name</th>\n",
       "      <th>id_cp_interaction</th>\n",
       "      <th>gene</th>\n",
       "      <th>?</th>\n",
       "      <th>PNEC</th>\n",
       "      <th>basal</th>\n",
       "      <th>basal prolif.</th>\n",
       "      <th>ciliated</th>\n",
       "      <th>club</th>\n",
       "      <th>deuterosomal</th>\n",
       "      <th>goblet</th>\n",
       "      <th>hillock</th>\n",
       "      <th>ionocytes</th>\n",
       "      <th>suprabasal</th>\n",
       "      <th>tuft</th>\n",
       "      <th>viral</th>\n",
       "    </tr>\n",
       "    <tr>\n",
       "      <th>multidata_id</th>\n",
       "      <th></th>\n",
       "      <th></th>\n",
       "      <th></th>\n",
       "      <th></th>\n",
       "      <th></th>\n",
       "      <th></th>\n",
       "      <th></th>\n",
       "      <th></th>\n",
       "      <th></th>\n",
       "      <th></th>\n",
       "      <th></th>\n",
       "      <th></th>\n",
       "      <th></th>\n",
       "      <th></th>\n",
       "      <th></th>\n",
       "      <th></th>\n",
       "      <th></th>\n",
       "      <th></th>\n",
       "      <th></th>\n",
       "      <th></th>\n",
       "    </tr>\n",
       "  </thead>\n",
       "  <tbody>\n",
       "    <tr>\n",
       "      <th>1355</th>\n",
       "      <td>UBASH3B</td>\n",
       "      <td>Q8TF42</td>\n",
       "      <td>True</td>\n",
       "      <td>UBS3B_HUMAN</td>\n",
       "      <td>Dehydroepiandrosterone_bySTS</td>\n",
       "      <td>CPI-CS09B8977D7</td>\n",
       "      <td>UBASH3B</td>\n",
       "      <td>0.025</td>\n",
       "      <td>0.0</td>\n",
       "      <td>0.018</td>\n",
       "      <td>0.05</td>\n",
       "      <td>0.025</td>\n",
       "      <td>0.023</td>\n",
       "      <td>0.017</td>\n",
       "      <td>0.018</td>\n",
       "      <td>0.015</td>\n",
       "      <td>0.014</td>\n",
       "      <td>0.021</td>\n",
       "      <td>0.007</td>\n",
       "      <td>0.012</td>\n",
       "    </tr>\n",
       "    <tr>\n",
       "      <th>1355</th>\n",
       "      <td>UBASH3B</td>\n",
       "      <td>Q8TF42</td>\n",
       "      <td>True</td>\n",
       "      <td>UBS3B_HUMAN</td>\n",
       "      <td>Dehydroepiandrosterone_bySTS</td>\n",
       "      <td>CPI-CS05760BB78</td>\n",
       "      <td>UBASH3B</td>\n",
       "      <td>0.025</td>\n",
       "      <td>0.0</td>\n",
       "      <td>0.018</td>\n",
       "      <td>0.05</td>\n",
       "      <td>0.025</td>\n",
       "      <td>0.023</td>\n",
       "      <td>0.017</td>\n",
       "      <td>0.018</td>\n",
       "      <td>0.015</td>\n",
       "      <td>0.014</td>\n",
       "      <td>0.021</td>\n",
       "      <td>0.007</td>\n",
       "      <td>0.012</td>\n",
       "    </tr>\n",
       "  </tbody>\n",
       "</table>\n",
       "</div>"
      ],
      "text/plain": [
       "             gene_name uniprot  is_complex protein_name  \\\n",
       "multidata_id                                              \n",
       "1355           UBASH3B  Q8TF42        True  UBS3B_HUMAN   \n",
       "1355           UBASH3B  Q8TF42        True  UBS3B_HUMAN   \n",
       "\n",
       "                              complex_name id_cp_interaction     gene      ?  \\\n",
       "multidata_id                                                                   \n",
       "1355          Dehydroepiandrosterone_bySTS   CPI-CS09B8977D7  UBASH3B  0.025   \n",
       "1355          Dehydroepiandrosterone_bySTS   CPI-CS05760BB78  UBASH3B  0.025   \n",
       "\n",
       "              PNEC  basal  basal prolif.  ciliated   club  deuterosomal  \\\n",
       "multidata_id                                                              \n",
       "1355           0.0  0.018           0.05     0.025  0.023         0.017   \n",
       "1355           0.0  0.018           0.05     0.025  0.023         0.017   \n",
       "\n",
       "              goblet  hillock  ionocytes  suprabasal   tuft  viral  \n",
       "multidata_id                                                        \n",
       "1355           0.018    0.015      0.014       0.021  0.007  0.012  \n",
       "1355           0.018    0.015      0.014       0.021  0.007  0.012  "
      ]
     },
     "execution_count": 22,
     "metadata": {},
     "output_type": "execute_result"
    }
   ],
   "source": [
    "cpdb_results['deconvoluted_percents'].head(2)"
   ]
  },
  {
   "cell_type": "code",
   "execution_count": null,
   "metadata": {},
   "outputs": [],
   "source": []
  }
 ],
 "metadata": {
  "colab": {
   "authorship_tag": "ABX9TyPIvQlTcke1YwtL7BkWsCIL",
   "provenance": []
  },
  "kernelspec": {
   "display_name": "pertpy",
   "language": "python",
   "name": "pertpy"
  },
  "language_info": {
   "codemirror_mode": {
    "name": "ipython",
    "version": 3
   },
   "file_extension": ".py",
   "mimetype": "text/x-python",
   "name": "python",
   "nbconvert_exporter": "python",
   "pygments_lexer": "ipython3",
   "version": "3.10.13"
  }
 },
 "nbformat": 4,
 "nbformat_minor": 4
}
